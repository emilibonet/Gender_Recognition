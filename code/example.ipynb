{
 "cells": [
  {
   "cell_type": "code",
   "execution_count": 1,
   "metadata": {},
   "outputs": [],
   "source": [
    "# Initilize the model\n",
    "from models.ours.initial_design import EnsembleModel\n",
    "model = EnsembleModel()"
   ]
  },
  {
   "cell_type": "code",
   "execution_count": null,
   "metadata": {},
   "outputs": [],
   "source": [
    "# If weights are available, load them with this\n",
    "import torch\n",
    "weights_path = \"./path/to/weights.pth\"\n",
    "model.load_body_sdict(torch.load(weights_path, map_location=torch.device('cpu')))"
   ]
  },
  {
   "cell_type": "code",
   "execution_count": 2,
   "metadata": {},
   "outputs": [
    {
     "data": {
      "text/plain": [
       "[{'bbb': (179, 197, 403, 831),\n",
       "  'fbb': (251, 211, 315, 288),\n",
       "  'body_score': 0.9996126294136047,\n",
       "  'face_score': 0.99931085,\n",
       "  'age': 0.6226353347301483,\n",
       "  'gender': 0.7601268589496613},\n",
       " {'bbb': (435, 191, 648, 788),\n",
       "  'fbb': (516, 205, 572, 276),\n",
       "  'body_score': 0.9996140599250793,\n",
       "  'face_score': 0.99841225,\n",
       "  'age': 0.6262206584215164,\n",
       "  'gender': 0.7598139941692352},\n",
       " {'bbb': (973, 270, 1151, 725),\n",
       "  'fbb': (1044, 284, 1086, 334),\n",
       "  'body_score': 0.9988904595375061,\n",
       "  'face_score': 0.9930131,\n",
       "  'age': 0.6290169358253479,\n",
       "  'gender': 0.7586594223976135},\n",
       " {'bbb': (1137, 211, 1355, 813),\n",
       "  'fbb': None,\n",
       "  'body_score': 0.9996861219406128,\n",
       "  'face_score': None,\n",
       "  'age': 0.2108725756406784,\n",
       "  'gender': 0.5196213722229004},\n",
       " {'bbb': (766, 214, 954, 782),\n",
       "  'fbb': None,\n",
       "  'body_score': 0.998237133026123,\n",
       "  'face_score': None,\n",
       "  'age': 0.24848000705242157,\n",
       "  'gender': 0.5190919637680054},\n",
       " {'bbb': (721, 323, 793, 572),\n",
       "  'fbb': None,\n",
       "  'body_score': 0.9898877739906311,\n",
       "  'face_score': None,\n",
       "  'age': 0.2640508711338043,\n",
       "  'gender': 0.5137601494789124},\n",
       " {'bbb': (666, 358, 708, 503),\n",
       "  'fbb': None,\n",
       "  'body_score': 0.972507655620575,\n",
       "  'face_score': None,\n",
       "  'age': 0.253431499004364,\n",
       "  'gender': 0.5096889138221741}]"
      ]
     },
     "execution_count": 2,
     "metadata": {},
     "output_type": "execute_result"
    }
   ],
   "source": [
    "# Take the example image and predict on it\n",
    "from utils import root\n",
    "imgpath = f\"{root}/data/example_image.jpg\"\n",
    "model.predict(imgpath)"
   ]
  }
 ],
 "metadata": {
  "kernelspec": {
   "display_name": "Python 3.10.2 ('viume')",
   "language": "python",
   "name": "python3"
  },
  "language_info": {
   "codemirror_mode": {
    "name": "ipython",
    "version": 3
   },
   "file_extension": ".py",
   "mimetype": "text/x-python",
   "name": "python",
   "nbconvert_exporter": "python",
   "pygments_lexer": "ipython3",
   "version": "3.10.2"
  },
  "orig_nbformat": 4,
  "vscode": {
   "interpreter": {
    "hash": "854b14fe53adc84892c0b8f7d48842e9f5a4ca207e2f6f008085b934abc95a48"
   }
  }
 },
 "nbformat": 4,
 "nbformat_minor": 2
}
